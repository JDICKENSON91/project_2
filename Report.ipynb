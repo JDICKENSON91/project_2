{
 "cells": [
  {
   "cell_type": "markdown",
   "metadata": {},
   "source": [
    "# Project 2 ETL"
   ]
  },
  {
   "cell_type": "markdown",
   "metadata": {},
   "source": [
    "## Introduction: \n",
    "\n",
    "Data of deaths related to non-communicable diseases and injury for each country were extracted as csv files from the World Bank Open Data website."
   ]
  },
  {
   "cell_type": "markdown",
   "metadata": {},
   "source": [
    "## Extraction: \n",
    "Three csv data tables were extracted from World Bank Open Data (https://data.worldbank.org/), one relating to deaths caused by injury, one relating to deaths by non communicable diseases and another with country region. The raw csv files are accessible from the Resources folder. (Injury datta from: \"cod_injury_stats.csv\" , Non-commuinicable diseases data form: \"non_com.csv\" and country data from \"income_group.csv\"). "
   ]
  },
  {
   "cell_type": "markdown",
   "metadata": {},
   "source": [
    "## Transform:\n",
    "Csv data was read into a jupyter notebook using the pandas library. Data was transformed into a dataframe and cleaned. \n",
    "\n",
    "The first table created includes country code and region. Country name was them merged from non-communicable diseases to link country names and regions.   \n",
    "\n",
    "Cleaning involved removing any countries that had nill values, with no cause of death data for the years of interest. This involved the removal of 35 countries. Data was aquired for the years 2000, 2010, 2015 and 2016 for both injury and non-communicable diseases. The average of these years was calculated for each country to give an overall percentage of cause of death due to injury and non-communicable diseases. \n",
    "\n",
    "\n"
   ]
  },
  {
   "cell_type": "markdown",
   "metadata": {},
   "source": [
    "## Load: \n",
    "Tables were created in postgres SQL as below: "
   ]
  },
  {
   "cell_type": "markdown",
   "metadata": {},
   "source": [
    "\n",
    "\n",
    "| Tables        | Columns       | Description                                                                           |Type     |\n",
    "| ------------- |:-------------:| -------------------------------------------------------------------------------------:|------:  |\n",
    "| Country       |country_code   | The Primary Key for this table, a code for each country                               |Varchar  |\n",
    "| Country       |country_name   | The name of the country                                                               |Varchar  |\n",
    "| Country       |region         | The region of the world the country belongs to                                        |Varchar  |\n",
    "| ------------- |:-------------:| -------------------------------------------------------------------------------------:|------:  |\n",
    "| Injury        |ID             | The Primary Key                                                                       |Varchar  |\n",
    "| Injury        |country_code   | The Foreign Key of Country table                                                      |Varchar  |\n",
    "| Injury        |average_per    | Average of deaths by injury for 2000, 2010, 2015 and 2016                             |Varchar  |\n",
    "| ------------- |:-------------:| -------------------------------------------------------------------------------------:|------:  |\n",
    "| Country       ||ID            | The Primary Key                                                                       |Varchar  |\n",
    "| Country       |country_code   | The Foreign Key of Country table                                                      |Varchar  |\n",
    "| Country       |average_per    | Average of deaths by non communicable diceases for 2000, 2010, 2015 and 2016.         |Varchar  |\n",
    "\n",
    "\n"
   ]
  },
  {
   "cell_type": "markdown",
   "metadata": {},
   "source": [
    "Schema for tables"
   ]
  },
  {
   "cell_type": "markdown",
   "metadata": {},
   "source": [
    "\n",
    "![alt text](Schema_table_image.png \"Logo Title Text 1\")"
   ]
  },
  {
   "cell_type": "markdown",
   "metadata": {},
   "source": [
    "## Conclusions: \n",
    "This cause of death data is now cleaned and ready to be used for other investigations such as comparing this data with income status of the country, geolocation and other parameters. "
   ]
  }
 ],
 "metadata": {
  "kernelspec": {
   "display_name": "Python 3",
   "language": "python",
   "name": "python3"
  },
  "language_info": {
   "codemirror_mode": {
    "name": "ipython",
    "version": 3
   },
   "file_extension": ".py",
   "mimetype": "text/x-python",
   "name": "python",
   "nbconvert_exporter": "python",
   "pygments_lexer": "ipython3",
   "version": "3.7.7"
  }
 },
 "nbformat": 4,
 "nbformat_minor": 4
}
